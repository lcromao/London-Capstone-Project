{
 "cells": [
  {
   "cell_type": "code",
   "execution_count": 1,
   "metadata": {},
   "outputs": [],
   "source": [
    "import pandas as pd"
   ]
  },
  {
   "cell_type": "code",
   "execution_count": 16,
   "metadata": {},
   "outputs": [],
   "source": [
    "def recomendation_by_mean(df, sort_column, group_column='Borough', ascending=True, n_recommendations=3):\n",
    "    '''\n",
    "    This function returns the n_recommendations most popular items in the dataset\n",
    "    '''\n",
    "    result = df.drop(columns='Year').groupby(group_column).mean().sort_values(by=sort_column, ascending=ascending)[:n_recommendations]\n",
    "    return result, result.index.tolist()"
   ]
  },
  {
   "cell_type": "code",
   "execution_count": 3,
   "metadata": {},
   "outputs": [],
   "source": [
    "PATH = '../data/'"
   ]
  },
  {
   "cell_type": "code",
   "execution_count": 4,
   "metadata": {},
   "outputs": [
    {
     "data": {
      "text/plain": [
       "(                      Exercices  Wellbeing    Mental   Obesity  \\\n",
       " Borough                                                          \n",
       " Barking and Dagenham   0.524093   0.754600  0.372783  0.569600   \n",
       " Newham                 0.566562   0.770117  0.377500  0.521457   \n",
       " Brent                  0.579478   0.814050  0.367417  0.578014   \n",
       " \n",
       "                       Cronic Deseases  \n",
       " Borough                                \n",
       " Barking and Dagenham         0.187124  \n",
       " Newham                       0.173922  \n",
       " Brent                        0.181931  ,\n",
       " ['Barking and Dagenham', 'Newham', 'Brent'])"
      ]
     },
     "execution_count": 4,
     "metadata": {},
     "output_type": "execute_result"
    }
   ],
   "source": [
    "# Health recomendation\n",
    "\n",
    "health_df = pd.read_excel(PATH + 'WellBeing/Tabela Health.xlsx')\n",
    "recomendation_by_mean(health_df, 'Exercices')"
   ]
  },
  {
   "cell_type": "code",
   "execution_count": 12,
   "metadata": {},
   "outputs": [
    {
     "data": {
      "text/plain": [
       "(          Rough Sleepers  Rough sleepers (%)  \\\n",
       " Borough                                        \n",
       " Hounslow      147.857143            0.000825   \n",
       " Haringey      293.571429            0.001506   \n",
       " Merton         69.142857            0.000498   \n",
       " \n",
       "           Up-to-date with household bills   Unemployment rate   \\\n",
       " Borough                                                          \n",
       " Hounslow                          0.830000            0.055814   \n",
       " Haringey                          0.852857            0.045714   \n",
       " Merton                            0.872857            0.035000   \n",
       " \n",
       "           Reducing local income inequality (%)  \n",
       " Borough                                         \n",
       " Hounslow                              0.042278  \n",
       " Haringey                              0.066665  \n",
       " Merton                                0.140682  ,\n",
       " ['Hounslow', 'Haringey', 'Merton'])"
      ]
     },
     "execution_count": 12,
     "metadata": {},
     "output_type": "execute_result"
    }
   ],
   "source": [
    "# Finance recomendation\n",
    "\n",
    "financial_df = pd.read_excel(PATH + 'WellBeing/Financial_Security.xlsx')\n",
    "recomendation_by_mean(financial_df, 'Up-to-date with household bills ')"
   ]
  },
  {
   "cell_type": "code",
   "execution_count": 20,
   "metadata": {},
   "outputs": [
    {
     "data": {
      "text/plain": [
       "(                      NVQ4+ - percent  NVQ3 - percent  NVQ2 - percent  \\\n",
       " Borough                                                                 \n",
       " Richmond upon Thames        67.585714       12.195238        8.361905   \n",
       " Wandsworth                  71.252381        8.519048        7.080952   \n",
       " Kingston upon Thames        59.671429       13.990476       10.280952   \n",
       " \n",
       "                       NVQ1 - percent  NVQ0 - percent  \n",
       " Borough                                               \n",
       " Richmond upon Thames        4.371429        2.433333  \n",
       " Wandsworth                  3.228571        3.028571  \n",
       " Kingston upon Thames        5.976190        3.061905  ,\n",
       " ['Richmond upon Thames', 'Wandsworth', 'Kingston upon Thames'])"
      ]
     },
     "execution_count": 20,
     "metadata": {},
     "output_type": "execute_result"
    }
   ],
   "source": [
    "# Education recomendation\n",
    "\n",
    "education_df = pd.read_excel(PATH + 'Education/Qualifications-of-working-age-NVQ_treated (2).xlsx',\n",
    "                             sheet_name='TODOS')\n",
    "recomendation_by_mean(education_df, 'NVQ0 - percent')"
   ]
  },
  {
   "cell_type": "code",
   "execution_count": 17,
   "metadata": {},
   "outputs": [
    {
     "data": {
      "text/plain": [
       "(                Drug Users    Cannabis     Cocaine     Ecstasy   Other Drugs\n",
       " Borough                                                                     \n",
       " London         6654.447619  2351.135352  795.947745  267.088166  3240.276356\n",
       " Tower Hamlets   376.120952   132.890259   44.988351   15.096288   183.146055\n",
       " Islington       352.975048   124.712397   42.219837   14.167285   171.875528\n",
       " Hackney         325.971492   115.171558   38.989904   13.083449   158.726581\n",
       " Camden          322.113841   113.808581   38.528485   12.928616   156.848160,\n",
       " ['London', 'Tower Hamlets', 'Islington', 'Hackney', 'Camden'])"
      ]
     },
     "execution_count": 17,
     "metadata": {},
     "output_type": "execute_result"
    }
   ],
   "source": [
    "# Drugs recomendation\n",
    "\n",
    "drugs_df = pd.read_excel(PATH + 'Drugs/DrugsOrganized.xlsx', sheet_name='Drug use')\n",
    "recomendation_by_mean(drugs_df, 'Drug Users', ascending=False, n_recommendations=4)"
   ]
  },
  {
   "cell_type": "code",
   "execution_count": 18,
   "metadata": {},
   "outputs": [
    {
     "data": {
      "text/plain": [
       "(             Violent Crimes Cluster  Property Crimes Cluster  \\\n",
       " Borough                                                        \n",
       " London                246429.000000            445063.285714   \n",
       " Westminster            12899.714286             40566.714286   \n",
       " Newham                 10850.142857             17671.714286   \n",
       " Southwark              10028.000000             18771.285714   \n",
       " Lambeth                10357.428571             17326.285714   \n",
       " \n",
       "              Societal Order Crimes Cluster  Individual Safety Crimes Cluster  \\\n",
       " Borough                                                                        \n",
       " London                       106701.857143                     244743.000000   \n",
       " Westminster                    6511.000000                      11695.285714   \n",
       " Newham                         4787.571429                      10504.857143   \n",
       " Southwark                      4529.142857                       9550.285714   \n",
       " Lambeth                        4978.571429                      10494.000000   \n",
       " \n",
       "                     Crimes  \n",
       " Borough                     \n",
       " London       825881.571429  \n",
       " Westminster   61579.285714  \n",
       " Newham        34586.142857  \n",
       " Southwark     34545.285714  \n",
       " Lambeth       34134.142857  ,\n",
       " ['London', 'Westminster', 'Newham', 'Southwark', 'Lambeth'])"
      ]
     },
     "execution_count": 18,
     "metadata": {},
     "output_type": "execute_result"
    }
   ],
   "source": [
    "# Crime recomendation\n",
    "\n",
    "crime_df = pd.read_excel(PATH + 'Crimes/Criminality-cluster.xlsx')\n",
    "recomendation_by_mean(crime_df, 'Crimes', ascending=False, n_recommendations=4)"
   ]
  }
 ],
 "metadata": {
  "kernelspec": {
   "display_name": "base",
   "language": "python",
   "name": "python3"
  },
  "language_info": {
   "codemirror_mode": {
    "name": "ipython",
    "version": 3
   },
   "file_extension": ".py",
   "mimetype": "text/x-python",
   "name": "python",
   "nbconvert_exporter": "python",
   "pygments_lexer": "ipython3",
   "version": "3.11.6"
  }
 },
 "nbformat": 4,
 "nbformat_minor": 2
}
